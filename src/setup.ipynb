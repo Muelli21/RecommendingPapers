{
 "cells": [
  {
   "cell_type": "markdown",
   "metadata": {},
   "source": [
    "# Installation\n",
    "\n",
    "We use the packages that are listed below in our project. Many of them are part of the standard Python library. Hence, those packages come with every python installation. By running the cell below, the other packages that are not natively supplied when installing Python are downloaded and installed using pip as a package manager. Alternatively, they could also be installed manually, e.g., using conda. \n",
    "\n",
    "-  io\n",
    "-  os\n",
    "-  gc\n",
    "-  eel\n",
    "-  csv\n",
    "-  bs4\n",
    "-  sys\n",
    "-  gzip\n",
    "-  json\n",
    "-  lxml\n",
    "-  tqdm\n",
    "-  nltk\n",
    "-  numpy\n",
    "-  regex\n",
    "-  torch\n",
    "-  plotly\n",
    "-  shutil\n",
    "-  pandas\n",
    "-  pickle\n",
    "-  gensim\n",
    "-  tkinter\n",
    "-  sklearn\n",
    "-  hashlib\n",
    "-  fairseq\n",
    "-  requests\n",
    "-  warnings\n",
    "-  catboost\n",
    "-  networkx\n",
    "-  selenium\n",
    "-  functools\n",
    "-  matplotlib\n",
    "-  umap-learn\n",
    "-  torchvision\n",
    "-  transformers\n",
    "-  pdfminer.six\n",
    "-  multiprocessing\n",
    "-  sortedcontainers"
   ]
  },
  {
   "cell_type": "code",
   "execution_count": null,
   "metadata": {},
   "outputs": [],
   "source": [
    "%pip install eel\n",
    "%pip install bs4\n",
    "%pip install lxml\n",
    "%pip install tqdm\n",
    "%pip install nltk\n",
    "%pip install numpy\n",
    "%pip install regex\n",
    "%pip install torch\n",
    "%pip install plotly\n",
    "%pip install pandas\n",
    "%pip install gensim\n",
    "%pip install sklearn\n",
    "%pip install fairseq\n",
    "%pip install requests\n",
    "%pip install catboost\n",
    "%pip install networkx\n",
    "%pip install selenium\n",
    "%pip install umap-learn\n",
    "%pip install matplotlib\n",
    "%pip install torchvision\n",
    "%pip install transformers\n",
    "%pip install pdfminer.six\n",
    "%pip install sortedcontainers"
   ]
  },
  {
   "cell_type": "markdown",
   "metadata": {},
   "source": [
    "### Downloading nltk corpora\n",
    "\n",
    "Downloading nltk corpora such as the stopwords corpus may fail due to issues with the ssl verification. In such a case please run the following cell!"
   ]
  },
  {
   "cell_type": "code",
   "execution_count": null,
   "metadata": {},
   "outputs": [],
   "source": [
    "import nltk\n",
    "nltk.download(\"stopwords\")"
   ]
  },
  {
   "cell_type": "code",
   "execution_count": 1,
   "metadata": {},
   "outputs": [],
   "source": [
    "import utils.constants as constants\n",
    "import utils.text_processing as text_processing\n",
    "\n",
    "import preparation.extracting as extracting\n",
    "import preparation.database as database"
   ]
  },
  {
   "cell_type": "code",
   "execution_count": 2,
   "metadata": {},
   "outputs": [],
   "source": [
    "embeddings, dim = text_processing.load_embeddings(constants.STARSPACE_EMBEDDINGS)"
   ]
  },
  {
   "cell_type": "code",
   "execution_count": null,
   "metadata": {},
   "outputs": [],
   "source": [
    "data = extracting.merge()\n",
    "data.to_csv(constants.SOURCE_PATH_MERGED, index = False)"
   ]
  },
  {
   "cell_type": "code",
   "execution_count": null,
   "metadata": {},
   "outputs": [],
   "source": [
    "# NOTE: Before running this cell, the data/processed/subjects folder should be deleted manually\n",
    "\n",
    "database.setup_subject_files(\".csv\")"
   ]
  },
  {
   "cell_type": "code",
   "execution_count": null,
   "metadata": {},
   "outputs": [],
   "source": [
    "database.embed_subject_files(embeddings, dim)"
   ]
  },
  {
   "cell_type": "code",
   "execution_count": null,
   "metadata": {},
   "outputs": [],
   "source": [
    "database.update_subject_embeddings(embeddings, dim)"
   ]
  }
 ],
 "metadata": {
  "interpreter": {
   "hash": "9970e3cda3553e643a72630d158f5eb20b938c22781a4c3ade3fdbb209395361"
  },
  "kernelspec": {
   "display_name": "Python 3.9.7 64-bit ('Project': conda)",
   "language": "python",
   "name": "python3"
  },
  "language_info": {
   "codemirror_mode": {
    "name": "ipython",
    "version": 3
   },
   "file_extension": ".py",
   "mimetype": "text/x-python",
   "name": "python",
   "nbconvert_exporter": "python",
   "pygments_lexer": "ipython3",
   "version": "3.9.11"
  },
  "orig_nbformat": 4
 },
 "nbformat": 4,
 "nbformat_minor": 2
}
